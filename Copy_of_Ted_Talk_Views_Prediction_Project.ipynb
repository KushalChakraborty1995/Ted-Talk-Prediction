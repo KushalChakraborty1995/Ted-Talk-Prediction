{
  "nbformat": 4,
  "nbformat_minor": 0,
  "metadata": {
    "colab": {
      "private_outputs": true,
      "provenance": [],
      "collapsed_sections": [
        "fge-S5ZAYoAp",
        "85gYPyotYoAp",
        "RoGjAbkUYoAp",
        "4Of9eVA-YrdM",
        "iky9q4vBYrdO",
        "F6T5p64dYrdO",
        "y-Ehk30pYrdP",
        "bamQiAODYuh1",
        "QHF8YVU7Yuh3",
        "GwzvFGzlYuh3",
        "qYpmQ266Yuh3",
        "OH-pJp9IphqM",
        "bbFf2-_FphqN",
        "_ouA3fa0phqN",
        "Seke61FWphqN",
        "PIIx-8_IphqN",
        "t27r6nlMphqO",
        "r2jJGEOYphqO",
        "b0JNsNcRphqO",
        "BZR9WyysphqO",
        "jj7wYXLtphqO",
        "eZrbJ2SmphqO",
        "rFu4xreNphqO",
        "YJ55k-q6phqO",
        "gCFgpxoyphqP",
        "OVtJsKN_phqQ",
        "lssrdh5qphqQ",
        "U2RJ9gkRphqQ",
        "1M8mcRywphqQ",
        "tgIPom80phqQ",
        "JMzcOPDDphqR",
        "x-EpHcCOp1ci",
        "X_VqEhTip1ck",
        "8zGJKyg5p1ck",
        "PVzmfK_Ep1ck",
        "n3dbpmDWp1ck",
        "ylSl6qgtp1ck",
        "ZWILFDl5p1ck",
        "M7G43BXep1ck",
        "Ag9LCva-p1cl",
        "E6MkPsBcp1cl",
        "2cELzS2fp1cl",
        "3MPXvC8up1cl",
        "NC_X3p0fY2L0",
        "UV0SzAkaZNRQ",
        "YPEH6qLeZNRQ",
        "q29F0dvdveiT",
        "EXh0U9oCveiU",
        "22aHeOlLveiV",
        "g-ATYxFrGrvw",
        "Yfr_Vlr8HBkt",
        "8yEUt7NnHlrM",
        "tEA2Xm5dHt1r",
        "I79__PHVH19G",
        "Ou-I18pAyIpj",
        "fF3858GYyt-u",
        "4_0_7-oCpUZd",
        "hwyV_J3ipUZe",
        "3yB-zSqbpUZe",
        "dEUvejAfpUZe",
        "Fd15vwWVpUZf",
        "bn_IUdTipZyH",
        "49K5P_iCpZyH",
        "Nff-vKELpZyI",
        "kLW572S8pZyI",
        "dWbDXHzopZyI",
        "yLjJCtPM0KBk",
        "xiyOF9F70UgQ",
        "7wuGOrhz0itI",
        "id1riN9m0vUs",
        "578E2V7j08f6",
        "89xtkJwZ18nB",
        "67NQN5KX2AMe",
        "Iwf50b-R2tYG",
        "GMQiZwjn3iu7",
        "WVIkgGqN3qsr",
        "XkPnILGE3zoT",
        "Hlsf0x5436Go",
        "mT9DMSJo4nBL",
        "c49ITxTc407N",
        "OeJFEK0N496M",
        "9ExmJH0g5HBk",
        "cJNqERVU536h",
        "k5UmGsbsOxih",
        "T0VqWOYE6DLQ",
        "qBMux9mC6MCf",
        "-oLEiFgy-5Pf",
        "C74aWNz2AliB",
        "2DejudWSA-a0",
        "pEMng2IbBLp7",
        "rAdphbQ9Bhjc",
        "TNVZ9zx19K6k",
        "nqoHp30x9hH9",
        "rMDnDkt2B6du",
        "yiiVWRdJDDil",
        "1UUpS68QDMuG",
        "kexQrXU-DjzY",
        "T5CmagL3EC8N",
        "BhH2vgX9EjGr",
        "qjKvONjwE8ra",
        "P1XJ9OREExlT",
        "VFOzZv6IFROw",
        "TIqpNgepFxVj",
        "VfCC591jGiD4",
        "OB4l2ZhMeS1U",
        "ArJBuiUVfxKd",
        "4qY1EAkEfxKe",
        "PiV4Ypx8fxKe",
        "TfvqoZmBfxKf",
        "dJ2tPlVmpsJ0",
        "JWYfwnehpsJ1",
        "-jK_YjpMpsJ2",
        "HAih1iBOpsJ2",
        "zVGeBEFhpsJ2",
        "bmKjuQ-FpsJ3",
        "Fze-IPXLpx6K",
        "7AN1z2sKpx6M",
        "9PIHJqyupx6M",
        "_-qAgymDpx6N",
        "Z-hykwinpx6N",
        "h_CCil-SKHpo",
        "cBFFvTBNJzUa",
        "HvGl1hHyA_VK",
        "EyNgTHvd2WFk",
        "KH5McJBi2d8v",
        "iW_Lq9qf2h6X",
        "-Kee-DAl2viO",
        "gIfDvo9L0UH2"
      ],
      "include_colab_link": true
    },
    "kernelspec": {
      "name": "python3",
      "display_name": "Python 3"
    },
    "language_info": {
      "name": "python"
    }
  },
  "cells": [
    {
      "cell_type": "markdown",
      "metadata": {
        "id": "view-in-github",
        "colab_type": "text"
      },
      "source": [
        "<a href=\"https://colab.research.google.com/github/KushalChakraborty1995/Ted-Talk-Prediction/blob/main/Copy_of_Ted_Talk_Views_Prediction_Project.ipynb\" target=\"_parent\"><img src=\"https://colab.research.google.com/assets/colab-badge.svg\" alt=\"Open In Colab\"/></a>"
      ]
    },
    {
      "cell_type": "markdown",
      "source": [
        "# **Project Name**    - Ted Talk Views Prediction\n",
        "\n",
        "\n",
        "\n",
        "![0_rlkhD6eZHrlXvCok.webp](data:image/webp;base64,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)\n",
        "\n"
      ],
      "metadata": {
        "id": "vncDsAP0Gaoa"
      }
    },
    {
      "cell_type": "markdown",
      "source": [
        "**Project Type**    - **Regression**\n",
        "##### **Contribution**    - **Individual**\n",
        "##### **Team Member 1 -**Kushal Chakraborty    \n",
        "##### **Team Member 2 -**\n",
        "##### **Team Member 3 -**\n",
        "##### **Team Member 4 -**"
      ],
      "metadata": {
        "id": "beRrZCGUAJYm"
      }
    },
    {
      "cell_type": "markdown",
      "source": [],
      "metadata": {
        "id": "kLtVL185291d"
      }
    },
    {
      "cell_type": "markdown",
      "source": [
        "# **Project Summary -**"
      ],
      "metadata": {
        "id": "FJNUwmbgGyua"
      }
    },
    {
      "cell_type": "markdown",
      "source": [
        "\n",
        "TED stands for Technology, Entertainment and Design.\n",
        "\n",
        "TED is devoted to spreading powerful ideas on just about any topic. These datasets contain over 4,000 TED talks including transcripts in many languages.\n",
        "\n",
        "Founded in 1984 by Richard Salman as a nonprofit organization that aimed at bringing experts from the fields of Technology, Entertainment, and Design together.\n",
        "\n",
        "TED Conferences have gone on to become the Mecca of ideas from virtually all walks of life. As of 2015, TED and its sister TEDx chapters have published more than 2000 talks for free consumption by the masses and its speaker list boasts of the likes of Al Gore, Jimmy Wales, Shahrukh Khan, and Bill Gates.\n",
        "\n",
        "Our main objective is to build a predictive model to predict the number of views for the respective videos from the TEDx website. As we have a continous variable to predict, we use regression models to predict the views of the TED talks."
      ],
      "metadata": {
        "id": "F6v_1wHtG2nS"
      }
    },
    {
      "cell_type": "markdown",
      "source": [
        "# **GitHub Link -**"
      ],
      "metadata": {
        "id": "w6K7xa23Elo4"
      }
    },
    {
      "cell_type": "markdown",
      "source": [
        "https://github.com/KushalChakraborty1995/Ted-Talk-Prediction"
      ],
      "metadata": {
        "id": "h1o69JH3Eqqn"
      }
    },
    {
      "cell_type": "markdown",
      "source": [
        "# **Problem Statement**\n"
      ],
      "metadata": {
        "id": "yQaldy8SH6Dl"
      }
    },
    {
      "cell_type": "markdown",
      "source": [
        "Our objective is to predict the views of a TED talk uploaded on the TEDx website. For this purpose; we have been provided with the following attributes which are to be used to predict the views on a particular video.\n",
        "\n",
        "1-- Information about the Speakers\n",
        "\n",
        "2-- Underlying topics of the video’s talk\n",
        "\n",
        "3-- Type of Event in which the video was recorded\n",
        "\n",
        "4-- Recorded and Published Date of the video\n",
        "\n",
        "5-- Native language of the video and languages in which video is available\n",
        "\n",
        "6-- Comments, Duration and web-address of the video\n",
        "Related talks\n",
        "\n",
        "7-- Description and Transcript of the video"
      ],
      "metadata": {
        "id": "DpeJGUA3kjGy"
      }
    },
    {
      "cell_type": "markdown",
      "source": [
        "# **General Guidelines** : -  "
      ],
      "metadata": {
        "id": "mDgbUHAGgjLW"
      }
    },
    {
      "cell_type": "markdown",
      "source": [
        "1.   Well-structured, formatted, and commented code is required. \n",
        "2.   Exception Handling, Production Grade Code & Deployment Ready Code will be a plus. Those students will be awarded some additional credits. \n",
        "     \n",
        "     The additional credits will have advantages over other students during Star Student selection.\n",
        "       \n",
        "             [ Note: - Deployment Ready Code is defined as, the whole .ipynb notebook should be executable in one go\n",
        "                       without a single error logged. ]\n",
        "\n",
        "3.   Each and every logic should have proper comments.\n",
        "4. You may add as many number of charts you want. Make Sure for each and every chart the following format should be answered.\n",
        "        \n",
        "\n",
        "```\n",
        "# Chart visualization code\n",
        "```\n",
        "            \n",
        "\n",
        "*   Why did you pick the specific chart?\n",
        "*   What is/are the insight(s) found from the chart?\n",
        "* Will the gained insights help creating a positive business impact? \n",
        "Are there any insights that lead to negative growth? Justify with specific reason.\n",
        "\n",
        "5. You have to create at least 15 logical & meaningful charts having important insights.\n",
        "\n",
        "\n",
        "[ Hints : - Do the Vizualization in  a structured way while following \"UBM\" Rule. \n",
        "\n",
        "U - Univariate Analysis,\n",
        "\n",
        "B - Bivariate Analysis (Numerical - Categorical, Numerical - Numerical, Categorical - Categorical)\n",
        "\n",
        "M - Multivariate Analysis\n",
        " ]\n",
        "\n",
        "\n",
        "\n",
        "\n",
        "\n",
        "6. You may add more ml algorithms for model creation. Make sure for each and every algorithm, the following format should be answered.\n",
        "\n",
        "\n",
        "*   Explain the ML Model used and it's performance using Evaluation metric Score Chart.\n",
        "\n",
        "\n",
        "*   Cross- Validation & Hyperparameter Tuning\n",
        "\n",
        "*   Have you seen any improvement? Note down the improvement with updates Evaluation metric Score Chart.\n",
        "\n",
        "*   Explain each evaluation metric's indication towards business and the business impact pf the ML model used.\n",
        "\n",
        "\n",
        "\n",
        "\n",
        "\n",
        "\n",
        "\n",
        "\n",
        "\n",
        "\n",
        "\n",
        "\n",
        "\n",
        "\n",
        "\n",
        "\n",
        "\n",
        "\n"
      ],
      "metadata": {
        "id": "ZrxVaUj-hHfC"
      }
    },
    {
      "cell_type": "markdown",
      "source": [
        "# ***Let's Begin !***"
      ],
      "metadata": {
        "id": "O_i_v8NEhb9l"
      }
    },
    {
      "cell_type": "markdown",
      "source": [
        "## ***1. Know Your Data***"
      ],
      "metadata": {
        "id": "HhfV-JJviCcP"
      }
    },
    {
      "cell_type": "markdown",
      "source": [
        "### Import Libraries"
      ],
      "metadata": {
        "id": "Y3lxredqlCYt"
      }
    },
    {
      "cell_type": "code",
      "source": [
        "# Import Libraries\n",
        "import numpy as np\n",
        "import pandas as pd\n",
        "import seaborn as sns\n",
        "import matplotlib.pyplot as plt\n",
        "%matplotlib inline \n",
        "from datetime import datetime\n",
        "from sklearn.linear_model import Ridge, Lasso\n",
        "from sklearn.ensemble import RandomForestRegressor, GradientBoostingRegressor, ExtraTreesRegressor\n",
        "from sklearn.neural_network import MLPRegressor\n",
        "import xgboost as xgb\n",
        "from sklearn import neighbors\n",
        "from sklearn.svm import SVR\n",
        "import time\n",
        "from sklearn import metrics\n",
        "from sklearn.metrics import mean_squared_error, r2_score,mean_absolute_error\n",
        "from sklearn.preprocessing import StandardScaler, MinMaxScaler\n",
        "from sklearn.model_selection import train_test_split, KFold\n",
        "from sklearn.preprocessing import OneHotEncoder\n",
        "from sklearn.model_selection import GridSearchCV\n",
        "from sklearn.model_selection import RandomizedSearchCV\n",
        "from sklearn import ensemble\n",
        "\n",
        "import warnings\n",
        "warnings.filterwarnings(\"ignore\")\n"
      ],
      "metadata": {
        "id": "M8Vqi-pPk-HR"
      },
      "execution_count": null,
      "outputs": []
    },
    {
      "cell_type": "markdown",
      "source": [
        "### Dataset Loading"
      ],
      "metadata": {
        "id": "3RnN4peoiCZX"
      }
    },
    {
      "cell_type": "code",
      "source": [
        "# Load Dataset\n",
        "# mount drive\n",
        "from google.colab import drive\n",
        "drive.mount('/content/drive')\n",
        "\n",
        "\n"
      ],
      "metadata": {
        "id": "4CkvbW_SlZ_R"
      },
      "execution_count": null,
      "outputs": []
    },
    {
      "cell_type": "code",
      "source": [
        "df=pd.read_csv('/content/data_ted_talks.csv')"
      ],
      "metadata": {
        "id": "kHIuH2Xl8x0C"
      },
      "execution_count": null,
      "outputs": []
    },
    {
      "cell_type": "markdown",
      "source": [
        "### Dataset First View"
      ],
      "metadata": {
        "id": "x71ZqKXriCWQ"
      }
    },
    {
      "cell_type": "code",
      "source": [
        "# Dataset First Look\n",
        "df.head()"
      ],
      "metadata": {
        "id": "LWNFOSvLl09H"
      },
      "execution_count": null,
      "outputs": []
    },
    {
      "cell_type": "markdown",
      "source": [
        "### Dataset Rows & Columns count"
      ],
      "metadata": {
        "id": "7hBIi_osiCS2"
      }
    },
    {
      "cell_type": "code",
      "source": [
        "# Dataset Rows & Columns count\n",
        "df.shape"
      ],
      "metadata": {
        "id": "Kllu7SJgmLij"
      },
      "execution_count": null,
      "outputs": []
    },
    {
      "cell_type": "markdown",
      "source": [
        "### Dataset Information"
      ],
      "metadata": {
        "id": "JlHwYmJAmNHm"
      }
    },
    {
      "cell_type": "code",
      "source": [
        "# Dataset Info\n",
        "df.info()"
      ],
      "metadata": {
        "id": "e9hRXRi6meOf"
      },
      "execution_count": null,
      "outputs": []
    },
    {
      "cell_type": "markdown",
      "source": [
        "#### Duplicate Values"
      ],
      "metadata": {
        "id": "35m5QtbWiB9F"
      }
    },
    {
      "cell_type": "code",
      "source": [
        "# Dataset Duplicate Value Count\n",
        "df.duplicated().sum()"
      ],
      "metadata": {
        "id": "1sLdpKYkmox0"
      },
      "execution_count": null,
      "outputs": []
    },
    {
      "cell_type": "markdown",
      "source": [
        "\n",
        "\n",
        "* There are only 3 numerical columns in the dataset out of which 1 is target variable and 2 can be used as features and rest all columns are categorical columns.\n",
        "* main goal here is to find or generate some numerical columns from these columns. \n",
        "\n"
      ],
      "metadata": {
        "id": "c37NHZsVgJIs"
      }
    },
    {
      "cell_type": "markdown",
      "source": [
        "#### Missing Values/Null Values"
      ],
      "metadata": {
        "id": "PoPl-ycgm1ru"
      }
    },
    {
      "cell_type": "code",
      "source": [
        "# Missing Values/Null Values Count\n",
        "df.isna().sum().sort_values(ascending=False)"
      ],
      "metadata": {
        "id": "GgHWkxvamxVg"
      },
      "execution_count": null,
      "outputs": []
    },
    {
      "cell_type": "code",
      "source": [
        "# Visualizing the missing values\n",
        "sns.heatmap(df.isnull(),yticklabels=False,cbar=False,cmap='viridis')\n",
        "plt.rcParams['figure.figsize'] = (20, 8)"
      ],
      "metadata": {
        "id": "3q5wnI3om9sJ"
      },
      "execution_count": null,
      "outputs": []
    },
    {
      "cell_type": "markdown",
      "source": [
        "### What did you know about your dataset?"
      ],
      "metadata": {
        "id": "H0kj-8xxnORC"
      }
    },
    {
      "cell_type": "markdown",
      "source": [
        "The dataset contains NaN values in few columns like:\n",
        "\n",
        "\n",
        "\n",
        "*   all_speakers\n",
        "*   occupations\n",
        "*   about_speakers\n",
        "*   comments\n",
        "*   recorded_date\n",
        "\n",
        "\n",
        "\n",
        "\n",
        "\n",
        "\n",
        "\n"
      ],
      "metadata": {
        "id": "gfoNAAC-nUe_"
      }
    },
    {
      "cell_type": "markdown",
      "source": [
        "## ***2. Understanding Your Variables***"
      ],
      "metadata": {
        "id": "nA9Y7ga8ng1Z"
      }
    },
    {
      "cell_type": "code",
      "source": [
        "# Dataset Columns\n",
        "df.columns"
      ],
      "metadata": {
        "id": "j7xfkqrt5Ag5"
      },
      "execution_count": null,
      "outputs": []
    },
    {
      "cell_type": "code",
      "source": [
        "# Dataset Describe\n",
        "df.describe()"
      ],
      "metadata": {
        "id": "DnOaZdaE5Q5t"
      },
      "execution_count": null,
      "outputs": []
    },
    {
      "cell_type": "markdown",
      "source": [
        "### Variables Description "
      ],
      "metadata": {
        "id": "PBTbrJXOngz2"
      }
    },
    {
      "cell_type": "markdown",
      "source": [
        "Answer Here"
      ],
      "metadata": {
        "id": "aJV4KIxSnxay"
      }
    },
    {
      "cell_type": "markdown",
      "source": [
        "### Check Unique Values for each variable."
      ],
      "metadata": {
        "id": "u3PMJOP6ngxN"
      }
    },
    {
      "cell_type": "code",
      "source": [
        "# Check Unique Values for each variable.\n",
        "\n",
        "list(df['title'].unique())"
      ],
      "metadata": {
        "id": "zms12Yq5n-jE"
      },
      "execution_count": null,
      "outputs": []
    },
    {
      "cell_type": "markdown",
      "source": [
        "## 3. ***Data Wrangling***"
      ],
      "metadata": {
        "id": "dauF4eBmngu3"
      }
    },
    {
      "cell_type": "markdown",
      "source": [
        "### Data Wrangling Code"
      ],
      "metadata": {
        "id": "bKJF3rekwFvQ"
      }
    },
    {
      "cell_type": "code",
      "source": [
        "# Write your code to make your dataset analysis ready.\n",
        "#Dropping Url column\n",
        "df = df.drop(columns=['url'])"
      ],
      "metadata": {
        "id": "wk-9a2fpoLcV"
      },
      "execution_count": null,
      "outputs": []
    },
    {
      "cell_type": "code",
      "source": [
        "#Replacing Null Values\n",
        "df['occupations'].fillna('Not Present',inplace = True)\n",
        "df['all_speakers'].fillna('No Speaker',inplace = True)\n",
        "df['about_speakers'].fillna('Not Present',inplace = True)\n",
        "df['comments'].fillna('No Comments',inplace = True)\n",
        "df['recorded_date'].fillna('Not Present',inplace = True)"
      ],
      "metadata": {
        "id": "cBe0mkqgMI5k"
      },
      "execution_count": null,
      "outputs": []
    },
    {
      "cell_type": "markdown",
      "source": [
        "### What all manipulations have you done and insights you found?"
      ],
      "metadata": {
        "id": "MSa1f5Uengrz"
      }
    },
    {
      "cell_type": "markdown",
      "source": [
        " **Dropped the Url columns,as it had no use.\n",
        "Cleaned the data and replaced the null values.So there no more null values.**"
      ],
      "metadata": {
        "id": "LbyXE7I1olp8"
      }
    },
    {
      "cell_type": "markdown",
      "source": [
        "## ***4. Data Vizualization, Storytelling & Experimenting with charts : Understand the relationships between variables***"
      ],
      "metadata": {
        "id": "GF8Ens_Soomf"
      }
    },
    {
      "cell_type": "markdown",
      "source": [
        "Chart - 1\n",
        "\n",
        "Who are the speakers of top 5 most watched TED talks?"
      ],
      "metadata": {
        "id": "0wOQAZs5pc--"
      }
    },
    {
      "cell_type": "code",
      "source": [
        "popular_df = df.nlargest(5, ['views'])\n",
        "popular_df[['speaker_1','views','title']]"
      ],
      "metadata": {
        "id": "1vI_XtWnSHSy"
      },
      "execution_count": null,
      "outputs": []
    },
    {
      "cell_type": "code",
      "source": [
        "# Chart - 1 visualization code\n",
        "plt.figure(figsize=(10,6))\n",
        "plt.title(\"Speaker's of most popular videos\")\n",
        "sns.barplot(x='speaker_1', y='views', data=popular_df)"
      ],
      "metadata": {
        "id": "7v_ESjsspbW7"
      },
      "execution_count": null,
      "outputs": []
    },
    {
      "cell_type": "markdown",
      "source": [
        "##### 1. Why did you pick the specific chart?"
      ],
      "metadata": {
        "id": "K5QZ13OEpz2H"
      }
    },
    {
      "cell_type": "markdown",
      "source": [
        "Because i wanted to check the speakers of top 5 most watched TED talks."
      ],
      "metadata": {
        "id": "XESiWehPqBRc"
      }
    },
    {
      "cell_type": "markdown",
      "source": [
        "##### 2. What is/are the insight(s) found from the chart?"
      ],
      "metadata": {
        "id": "lQ7QKXXCp7Bj"
      }
    },
    {
      "cell_type": "markdown",
      "source": [
        "1--Sir Ken Robinson's talk on \"Do Schools Kill Creativity?\" is the most popular TED Talk with more than 65 million views.\n",
        "\n",
        "2--There is only one talk that has crossed 60 million mark while 3 talks have crossed 50 million mark.Answer Here"
      ],
      "metadata": {
        "id": "C_j1G7yiqdRP"
      }
    },
    {
      "cell_type": "markdown",
      "source": [
        "##### 3. Will the gained insights help creating a positive business impact? \n",
        "Are there any insights that lead to negative growth? Justify with specific reason."
      ],
      "metadata": {
        "id": "448CDAPjqfQr"
      }
    },
    {
      "cell_type": "markdown",
      "source": [
        "Yes.It will help to gain positive business impact.\n"
      ],
      "metadata": {
        "id": "3cspy4FjqxJW"
      }
    },
    {
      "cell_type": "markdown",
      "source": [
        "#### Chart - 2"
      ],
      "metadata": {
        "id": "KSlN3yHqYklG"
      }
    },
    {
      "cell_type": "markdown",
      "source": [
        "Who is the most popular speaker?"
      ],
      "metadata": {
        "id": "PI6qNmOvm9hB"
      }
    },
    {
      "cell_type": "code",
      "source": [
        "popular_speaker_df = df.groupby('speaker_1').agg({'views':'sum'}).nlargest(10,['views']).reset_index()\n",
        "popular_speaker_df"
      ],
      "metadata": {
        "id": "azxmRNDvnUAA"
      },
      "execution_count": null,
      "outputs": []
    },
    {
      "cell_type": "code",
      "source": [
        "# Chart - 2 visualization code\n",
        "plt.figure(figsize=(15,6))\n",
        "plt.title('Most popular Speaker according to total views')\n",
        "sns.barplot(x='speaker_1', y='views', data=popular_speaker_df,palette='Paired')"
      ],
      "metadata": {
        "id": "R4YgtaqtYklH"
      },
      "execution_count": null,
      "outputs": []
    },
    {
      "cell_type": "markdown",
      "source": [
        "##### 1. Why did you pick the specific chart?"
      ],
      "metadata": {
        "id": "t6dVpIINYklI"
      }
    },
    {
      "cell_type": "markdown",
      "source": [
        "Because i wanted to check who is the most popular speaker."
      ],
      "metadata": {
        "id": "5aaW0BYyYklI"
      }
    },
    {
      "cell_type": "markdown",
      "source": [
        "##### 2. What is/are the insight(s) found from the chart?"
      ],
      "metadata": {
        "id": "ijmpgYnKYklI"
      }
    },
    {
      "cell_type": "markdown",
      "source": [
        "Alex Gendler is the most popular speaker followed by Sir Ken Robinson and James veitch."
      ],
      "metadata": {
        "id": "PSx9atu2YklI"
      }
    },
    {
      "cell_type": "markdown",
      "source": [
        "##### 3. Will the gained insights help creating a positive business impact? \n",
        "Are there any insights that lead to negative growth? Justify with specific reason."
      ],
      "metadata": {
        "id": "-JiQyfWJYklI"
      }
    },
    {
      "cell_type": "markdown",
      "source": [
        "Yes.It will help to gain positive business impact.\n",
        "\n"
      ],
      "metadata": {
        "id": "BcBbebzrYklV"
      }
    },
    {
      "cell_type": "markdown",
      "source": [
        "#### Chart - 3"
      ],
      "metadata": {
        "id": "EM7whBJCYoAo"
      }
    },
    {
      "cell_type": "markdown",
      "source": [
        "which is the most frequent and most popular event in TED?"
      ],
      "metadata": {
        "id": "bYPrAJ3zo4eb"
      }
    },
    {
      "cell_type": "code",
      "source": [
        "#most_frequent_event\n",
        "popular_event_df = df.groupby('event').agg({'views':'sum'}).nlargest(10,['views']).reset_index()\n",
        "popular_event_df"
      ],
      "metadata": {
        "id": "H7vzuTtQo-g6"
      },
      "execution_count": null,
      "outputs": []
    },
    {
      "cell_type": "code",
      "source": [
        "#find most popular event\n",
        "pop_event_df=df[['event','views']].groupby('event').agg({'views' : 'sum'}).nlargest(10,['views']).reset_index()\n",
        "pop_event_df"
      ],
      "metadata": {
        "id": "Ehv5_p2gpSId"
      },
      "execution_count": null,
      "outputs": []
    },
    {
      "cell_type": "code",
      "source": [
        "# Chart - 3 visualization code\n",
        "# Plotting both graphs\n",
        "#setting x and y values in the plot\n",
        "x = popular_event_df['event']\n",
        "y = popular_event_df['views']\n",
        "x1 = pop_event_df['event']\n",
        "y1 = pop_event_df['views']\n",
        "\n",
        "plt.subplots(figsize=(20, 7))\n",
        " \n",
        "# using subplot function and creating plot one\n",
        "plt.subplot(1, 2, 1)\n",
        "plt.bar(x, y, color='red')\n",
        "plt.title('most frequent event')\n",
        "plt.xlabel('event')\n",
        "plt.ylabel('views')\n",
        " \n",
        "# using subplot function and creating plot two\n",
        "plt.subplot(1, 2, 2)\n",
        "plt.bar(x1, y1,color='pink')\n",
        "plt.title('most popular event')\n",
        "plt.xlabel('event')\n",
        "plt.ylabel('views')\n",
        "# space between the plots\n",
        "plt.tight_layout(2)\n",
        " \n",
        "# show plot\n",
        "plt.show()"
      ],
      "metadata": {
        "id": "t6GMdE67YoAp"
      },
      "execution_count": null,
      "outputs": []
    },
    {
      "cell_type": "markdown",
      "source": [
        "##### 1. Why did you pick the specific chart?"
      ],
      "metadata": {
        "id": "fge-S5ZAYoAp"
      }
    },
    {
      "cell_type": "markdown",
      "source": [
        "Because i wanted to check most frequent and popular shows on TED."
      ],
      "metadata": {
        "id": "5dBItgRVYoAp"
      }
    },
    {
      "cell_type": "markdown",
      "source": [
        "##### 2. What is/are the insight(s) found from the chart?"
      ],
      "metadata": {
        "id": "85gYPyotYoAp"
      }
    },
    {
      "cell_type": "markdown",
      "source": [
        "TED-Ed is the most popular and frequent event"
      ],
      "metadata": {
        "id": "4jstXR6OYoAp"
      }
    },
    {
      "cell_type": "markdown",
      "source": [
        "##### 3. Will the gained insights help creating a positive business impact? \n",
        "Are there any insights that lead to negative growth? Justify with specific reason."
      ],
      "metadata": {
        "id": "RoGjAbkUYoAp"
      }
    },
    {
      "cell_type": "markdown",
      "source": [
        "Yes.It will help to gain positive business impact."
      ],
      "metadata": {
        "id": "zfJ8IqMcYoAp"
      }
    },
    {
      "cell_type": "markdown",
      "source": [
        "#### Chart - 4"
      ],
      "metadata": {
        "id": "4Of9eVA-YrdM"
      }
    },
    {
      "cell_type": "markdown",
      "source": [
        "Which is most common native language show?"
      ],
      "metadata": {
        "id": "yw9s6ng9rb_U"
      }
    },
    {
      "cell_type": "code",
      "source": [
        "df.native_lang.value_counts()"
      ],
      "metadata": {
        "id": "IDpjA44oriUn"
      },
      "execution_count": null,
      "outputs": []
    },
    {
      "cell_type": "code",
      "source": [
        "# Chart - 4 visualization code\n",
        "plt.title('Native language')\n",
        "sns.countplot(df['native_lang'],color='blue')"
      ],
      "metadata": {
        "id": "irlUoxc8YrdO"
      },
      "execution_count": null,
      "outputs": []
    },
    {
      "cell_type": "markdown",
      "source": [
        "##### 1. Why did you pick the specific chart?\n",
        "\n"
      ],
      "metadata": {
        "id": "iky9q4vBYrdO"
      }
    },
    {
      "cell_type": "markdown",
      "source": [
        "To check which is the common language on TED shows."
      ],
      "metadata": {
        "id": "aJRCwT6DYrdO"
      }
    },
    {
      "cell_type": "markdown",
      "source": [
        "##### 2. What is/are the insight(s) found from the chart?"
      ],
      "metadata": {
        "id": "F6T5p64dYrdO"
      }
    },
    {
      "cell_type": "markdown",
      "source": [
        "Here, approx 99% values in native_lang column is english."
      ],
      "metadata": {
        "id": "Xx8WAJvtYrdO"
      }
    },
    {
      "cell_type": "markdown",
      "source": [
        "##### 3. Will the gained insights help creating a positive business impact? \n",
        "Are there any insights that lead to negative growth? Justify with specific reason."
      ],
      "metadata": {
        "id": "y-Ehk30pYrdP"
      }
    },
    {
      "cell_type": "markdown",
      "source": [
        "Yes.It will help to gain positive business impact."
      ],
      "metadata": {
        "id": "jLNxxz7MYrdP"
      }
    },
    {
      "cell_type": "markdown",
      "source": [
        "#### Chart - 5"
      ],
      "metadata": {
        "id": "bamQiAODYuh1"
      }
    },
    {
      "cell_type": "markdown",
      "source": [
        "Which is  the most frequent words in the title?"
      ],
      "metadata": {
        "id": "Q24cyO78whXL"
      }
    },
    {
      "cell_type": "code",
      "source": [
        "#importing the wordcloud\n",
        "from wordcloud import WordCloud,ImageColorGenerator"
      ],
      "metadata": {
        "id": "7FhkX_dVwvRC"
      },
      "execution_count": null,
      "outputs": []
    },
    {
      "cell_type": "code",
      "source": [
        "# Chart - 5 visualization code\n",
        "#making of word cloud from title column\n",
        "text = \" \".join(topic for topic in df.title.astype(str))\n",
        "print (\"There are {} words in the combination of all titles.\".format(len(text)))\n",
        "\n",
        "# Create and generate a word cloud image:\n",
        "wordcloud = WordCloud(background_color=\"pink\", width=800, height=400).generate(text)\n",
        "\n",
        "plt.axis(\"off\")\n",
        "plt.rcParams[\"figure.figsize\"] = (15,5)\n",
        "plt.tight_layout(pad=0)\n",
        "plt.imshow(wordcloud, interpolation='bilinear')\n",
        "plt.show()"
      ],
      "metadata": {
        "id": "TIJwrbroYuh3"
      },
      "execution_count": null,
      "outputs": []
    },
    {
      "cell_type": "markdown",
      "source": [
        "##### 1. Why did you pick the specific chart?"
      ],
      "metadata": {
        "id": "QHF8YVU7Yuh3"
      }
    },
    {
      "cell_type": "markdown",
      "source": [
        "To check which words are most used in the title. "
      ],
      "metadata": {
        "id": "dcxuIMRPYuh3"
      }
    },
    {
      "cell_type": "markdown",
      "source": [
        "##### 2. What is/are the insight(s) found from the chart?"
      ],
      "metadata": {
        "id": "GwzvFGzlYuh3"
      }
    },
    {
      "cell_type": "markdown",
      "source": [
        "Majority of Titles contains words like life, world, make, new, future, art."
      ],
      "metadata": {
        "id": "uyqkiB8YYuh3"
      }
    },
    {
      "cell_type": "markdown",
      "source": [
        "##### 3. Will the gained insights help creating a positive business impact? \n",
        "Are there any insights that lead to negative growth? Justify with specific reason."
      ],
      "metadata": {
        "id": "qYpmQ266Yuh3"
      }
    },
    {
      "cell_type": "markdown",
      "source": [
        "Yes.It will help to gain positive business impact.\n",
        "\n"
      ],
      "metadata": {
        "id": "_WtzZ_hCYuh4"
      }
    },
    {
      "cell_type": "markdown",
      "source": [
        "#### Chart - 6"
      ],
      "metadata": {
        "id": "OH-pJp9IphqM"
      }
    },
    {
      "cell_type": "markdown",
      "source": [
        "Which is the most popular title with respect to views?"
      ],
      "metadata": {
        "id": "GM9jskrNMqjI"
      }
    },
    {
      "cell_type": "code",
      "source": [
        "# Chart - 6 visualization code\n",
        "popular_title = df[['title','views']].groupby('title').agg({'views' : 'mean'}).reset_index().sort_values(by=['views'],ascending=False).head(15)\n",
        "plt.rcParams[\"figure.figsize\"] = (14,5)\n",
        "sns.barplot(x='views',y='title',data=popular_title,palette='Spectral')"
      ],
      "metadata": {
        "id": "kuRf4wtuphqN"
      },
      "execution_count": null,
      "outputs": []
    },
    {
      "cell_type": "markdown",
      "source": [
        "##### 1. Why did you pick the specific chart?"
      ],
      "metadata": {
        "id": "bbFf2-_FphqN"
      }
    },
    {
      "cell_type": "markdown",
      "source": [
        "To find the most popular title with respect to views."
      ],
      "metadata": {
        "id": "loh7H2nzphqN"
      }
    },
    {
      "cell_type": "markdown",
      "source": [
        "##### 2. What is/are the insight(s) found from the chart?"
      ],
      "metadata": {
        "id": "_ouA3fa0phqN"
      }
    },
    {
      "cell_type": "markdown",
      "source": [
        "Most popular title is \"Do schools kill creativity?\" with 60+ million views."
      ],
      "metadata": {
        "id": "VECbqPI7phqN"
      }
    },
    {
      "cell_type": "markdown",
      "source": [
        "##### 3. Will the gained insights help creating a positive business impact? \n",
        "Are there any insights that lead to negative growth? Justify with specific reason."
      ],
      "metadata": {
        "id": "Seke61FWphqN"
      }
    },
    {
      "cell_type": "markdown",
      "source": [
        "Yes.It will help to gain positive business impact.\n",
        "\n"
      ],
      "metadata": {
        "id": "DW4_bGpfphqN"
      }
    },
    {
      "cell_type": "markdown",
      "source": [
        "#### Chart - 7"
      ],
      "metadata": {
        "id": "PIIx-8_IphqN"
      }
    },
    {
      "cell_type": "markdown",
      "source": [
        "Extracting day,month and year from published_date column\n",
        "\n"
      ],
      "metadata": {
        "id": "P932ahLkcKC1"
      }
    },
    {
      "cell_type": "code",
      "source": [
        "#applying strptime on published_date column\n",
        "import datetime\n",
        "df['published_date'] = df['published_date'].apply(lambda x: datetime.datetime.strptime(x,\"%Y-%m-%d\"))\n",
        "\n",
        "#extracting release day, month and year from the published date column\n",
        "df['published_date_day'] = df['published_date'].apply(lambda x: x.weekday())\n",
        "df['published_date_month']=df['published_date'].apply(lambda x: x.month)\n",
        "df['published_date_year'] = df['published_date'].apply(lambda x: x.year)"
      ],
      "metadata": {
        "id": "dLC_RbKfdLAO"
      },
      "execution_count": null,
      "outputs": []
    },
    {
      "cell_type": "code",
      "source": [
        "#encoding of published_date_day column with corresponding week day name\n",
        "week_day={0:'Monday',1:'Tuesday',2:'Wednesday',3:'Thursday',4:'Friday',5:'Saturday',6:'Sunday'}\n",
        "df['published_date_day']=df['published_date_day'].map(week_day)"
      ],
      "metadata": {
        "id": "qqCQ0-cQbv7c"
      },
      "execution_count": null,
      "outputs": []
    },
    {
      "cell_type": "code",
      "source": [
        "# Chart - 7 visualization code\n",
        "#checking the day of the month having maximum release date \n",
        "freq_rel_day=df[['published_date_day','views']].groupby('published_date_day').agg({'views' : 'count'})\n",
        "freq_rel_day=freq_rel_day.sort_values('views',ascending=False)\n",
        "freq_rel_day.reset_index(inplace=True)\n",
        "\n",
        "# Plotting the graph\n",
        "fig, ax = plt.subplots(figsize=(10,6), dpi= 80)\n",
        "ax.vlines(x=freq_rel_day.index, ymin=0, ymax=freq_rel_day.views, color='firebrick', alpha=0.7, linewidth=3)\n",
        "ax.scatter(x=freq_rel_day.index, y=freq_rel_day.views, s=40, color='firebrick', alpha=1)\n",
        "ax.set_xticks(freq_rel_day.index)\n",
        "ax.set_xticklabels(freq_rel_day.published_date_day.str.upper(), rotation=60, fontdict={'horizontalalignment': 'right', 'size':12})\n",
        "plt.title(\"Most frequent release days\",fontsize=15)\n",
        "# Printing the count in graph\n",
        "for row in freq_rel_day.itertuples():\n",
        "    ax.text(row.Index, row.views+.5, s=round(row.views, 2), horizontalalignment= 'center', verticalalignment='bottom', fontsize=10)\n",
        "# Show the object\n",
        "plt.xlabel('Weekdays')\n",
        "plt.ylabel('views')\n",
        "plt.show()"
      ],
      "metadata": {
        "id": "CWdgD6sxb2W1"
      },
      "execution_count": null,
      "outputs": []
    },
    {
      "cell_type": "markdown",
      "source": [
        "##### 1. Why did you pick the specific chart?"
      ],
      "metadata": {
        "id": "t27r6nlMphqO"
      }
    },
    {
      "cell_type": "markdown",
      "source": [
        "\n",
        "To find the most frequent release date."
      ],
      "metadata": {
        "id": "iv6ro40sphqO"
      }
    },
    {
      "cell_type": "markdown",
      "source": [
        "##### 2. What is/are the insight(s) found from the chart?"
      ],
      "metadata": {
        "id": "r2jJGEOYphqO"
      }
    },
    {
      "cell_type": "markdown",
      "source": [
        "\n",
        "Most frequent releases are on Tuesday."
      ],
      "metadata": {
        "id": "Po6ZPi4hphqO"
      }
    },
    {
      "cell_type": "markdown",
      "source": [
        "##### 3. Will the gained insights help creating a positive business impact? \n",
        "Are there any insights that lead to negative growth? Justify with specific reason."
      ],
      "metadata": {
        "id": "b0JNsNcRphqO"
      }
    },
    {
      "cell_type": "markdown",
      "source": [
        "Yes.It will help to gain positive business impact."
      ],
      "metadata": {
        "id": "xvSq8iUTphqO"
      }
    },
    {
      "cell_type": "markdown",
      "source": [
        "#### Chart - 8"
      ],
      "metadata": {
        "id": "BZR9WyysphqO"
      }
    },
    {
      "cell_type": "markdown",
      "source": [
        "Which is the best release day of the week with respect to average views?"
      ],
      "metadata": {
        "id": "iZYVn7aRcPLV"
      }
    },
    {
      "cell_type": "code",
      "source": [
        "# Chart - 8 visualization code\n",
        "\n",
        "#checking popular release day wrt views\n",
        "pop_rel_day=df[['published_date_day','views']].groupby('published_date_day').agg({'views' : 'mean'})\n",
        "pop_rel_day=pop_rel_day.sort_values('views',ascending=False)\n",
        "pop_rel_day.reset_index(inplace=True)\n",
        "\n",
        "# Plotting the graph\n",
        "fig, ax = plt.subplots(figsize=(10,6), dpi= 80)\n",
        "ax.vlines(x=pop_rel_day.index, ymin=0, ymax=pop_rel_day.views, color='red', alpha=0.7, linewidth=3)\n",
        "ax.scatter(x=pop_rel_day.index, y=pop_rel_day.views, s=40, color='firebrick', alpha=1)\n",
        "ax.set_xticks(pop_rel_day.index)\n",
        "ax.set_xticklabels(pop_rel_day.published_date_day.str.upper(), rotation=60, fontdict={'horizontalalignment': 'right', 'size':12})\n",
        "plt.title(\"week days having maximum views\",fontsize=15)\n",
        "plt.xlabel('Weekdays')\n",
        "plt.ylabel('views')"
      ],
      "metadata": {
        "id": "OqtW3L0LcDtp"
      },
      "execution_count": null,
      "outputs": []
    },
    {
      "cell_type": "markdown",
      "source": [
        "##### 1. Why did you pick the specific chart?"
      ],
      "metadata": {
        "id": "jj7wYXLtphqO"
      }
    },
    {
      "cell_type": "markdown",
      "source": [
        "To find the best release day of the week with respect to average views."
      ],
      "metadata": {
        "id": "Ob8u6rCTphqO"
      }
    },
    {
      "cell_type": "markdown",
      "source": [
        "##### 2. What is/are the insight(s) found from the chart?"
      ],
      "metadata": {
        "id": "eZrbJ2SmphqO"
      }
    },
    {
      "cell_type": "markdown",
      "source": [
        "1--Most videos are published on Tuesday followed by Thursday.\n",
        "\n",
        "2--But the videos published on Friday are more popular (i.e. have more average views) followed by wednesday.\n",
        "\n",
        "3--Friday release is impacting the views of the video"
      ],
      "metadata": {
        "id": "mZtgC_hjphqO"
      }
    },
    {
      "cell_type": "markdown",
      "source": [
        "##### 3. Will the gained insights help creating a positive business impact? \n",
        "Are there any insights that lead to negative growth? Justify with specific reason."
      ],
      "metadata": {
        "id": "rFu4xreNphqO"
      }
    },
    {
      "cell_type": "markdown",
      "source": [
        "Yes.It will help to gain positive business impact."
      ],
      "metadata": {
        "id": "ey_0qi68phqO"
      }
    },
    {
      "cell_type": "markdown",
      "source": [
        "#### Chart - 9"
      ],
      "metadata": {
        "id": "YJ55k-q6phqO"
      }
    },
    {
      "cell_type": "markdown",
      "source": [
        "Which month has max releases?"
      ],
      "metadata": {
        "id": "z_y2TNGMboSf"
      }
    },
    {
      "cell_type": "code",
      "source": [
        "#checking months having maximum release \n",
        "freq_rel_month=df[['published_date_month','views']].groupby('published_date_month').agg({'views' : 'count'})\n",
        "freq_rel_month=freq_rel_month.sort_values('views',ascending=False)\n",
        "freq_rel_month.reset_index(inplace=True)\n",
        "freq_rel_month"
      ],
      "metadata": {
        "id": "Or3qbij5b4hc"
      },
      "execution_count": null,
      "outputs": []
    },
    {
      "cell_type": "code",
      "source": [
        "#Printing the most popular release month according to average Views\n",
        "pop_rel_month=df[['published_date_month','views']].groupby('published_date_month').agg({'views' : 'mean'})\n",
        "pop_rel_month=pop_rel_month.sort_values('views',ascending=False)\n",
        "pop_rel_month.reset_index(inplace=True)\n",
        "pop_rel_month"
      ],
      "metadata": {
        "id": "6lSIjgmObzpf"
      },
      "execution_count": null,
      "outputs": []
    },
    {
      "cell_type": "code",
      "source": [
        "# Chart - 9 visualization code\n",
        "# plotting the months having maximum release \n",
        "plt.subplots(figsize=(20, 7))\n",
        "plt.subplot(1,2,1)\n",
        "sns.set_theme(style=\"darkgrid\")\n",
        "sns.lineplot(x='published_date_month',y='views',data=freq_rel_month)\n",
        "plt.title('Most frequent release months')\n",
        "\n",
        "#plotting most popular release month according to average Views\n",
        "plt.subplot(1,2,2)\n",
        "plt.title('Released months having maximum average views')\n",
        "sns.lineplot(x='published_date_month',y='views',data=pop_rel_month)\n",
        "plt.show()\n"
      ],
      "metadata": {
        "id": "B2aS4O1ophqO"
      },
      "execution_count": null,
      "outputs": []
    },
    {
      "cell_type": "markdown",
      "source": [
        "##### 1. Why did you pick the specific chart?"
      ],
      "metadata": {
        "id": "gCFgpxoyphqP"
      }
    },
    {
      "cell_type": "markdown",
      "source": [
        "To find which month has maximum releases and which month has maximum average views."
      ],
      "metadata": {
        "id": "TVxDimi2phqP"
      }
    },
    {
      "cell_type": "markdown",
      "source": [
        "##### 2. What is/are the insight(s) found from the chart?"
      ],
      "metadata": {
        "id": "OVtJsKN_phqQ"
      }
    },
    {
      "cell_type": "markdown",
      "source": [
        "April have maximum released videos, But the videos released in March are more popular"
      ],
      "metadata": {
        "id": "ngGi97qjphqQ"
      }
    },
    {
      "cell_type": "markdown",
      "source": [
        "##### 3. Will the gained insights help creating a positive business impact? \n",
        "Are there any insights that lead to negative growth? Justify with specific reason."
      ],
      "metadata": {
        "id": "lssrdh5qphqQ"
      }
    },
    {
      "cell_type": "markdown",
      "source": [
        "Yes.It will help to gain positive business impact.\n",
        "\n"
      ],
      "metadata": {
        "id": "tBpY5ekJphqQ"
      }
    },
    {
      "cell_type": "markdown",
      "source": [
        "#### Chart - 10"
      ],
      "metadata": {
        "id": "U2RJ9gkRphqQ"
      }
    },
    {
      "cell_type": "markdown",
      "source": [
        "Which years have maximum releases? "
      ],
      "metadata": {
        "id": "bX2gnzxlzjDS"
      }
    },
    {
      "cell_type": "code",
      "source": [
        "df['release_year'] = df['published_date'].apply(lambda x: x.year)"
      ],
      "metadata": {
        "id": "rWHIU-rs0d2v"
      },
      "execution_count": null,
      "outputs": []
    },
    {
      "cell_type": "code",
      "source": [
        "freq_rel_year=df[['release_year','views']].groupby('release_year').agg({'views' : 'count'})\n",
        "freq_rel_year=freq_rel_year.sort_values('views',ascending=False)\n",
        "freq_rel_year.reset_index(inplace=True)"
      ],
      "metadata": {
        "id": "u2bcqCSIzjcN"
      },
      "execution_count": null,
      "outputs": []
    },
    {
      "cell_type": "code",
      "source": [
        "# Chart - 10 visualization code\n",
        "plt.figure(figsize=(10,4))\n",
        "sns.barplot(x='release_year',y='views',data=freq_rel_year, order=freq_rel_year.sort_values('views',ascending = False).release_year)\n",
        "plt.title('Most frequent release years')"
      ],
      "metadata": {
        "id": "GM7a4YP4phqQ"
      },
      "execution_count": null,
      "outputs": []
    },
    {
      "cell_type": "markdown",
      "source": [
        "##### 1. Why did you pick the specific chart?"
      ],
      "metadata": {
        "id": "1M8mcRywphqQ"
      }
    },
    {
      "cell_type": "markdown",
      "source": [
        "To check which is the most frequent release year."
      ],
      "metadata": {
        "id": "8agQvks0phqQ"
      }
    },
    {
      "cell_type": "markdown",
      "source": [
        "##### 2. What is/are the insight(s) found from the chart?"
      ],
      "metadata": {
        "id": "tgIPom80phqQ"
      }
    },
    {
      "cell_type": "markdown",
      "source": [
        "Most videos are published in 2019 followed by 2018 and 2017."
      ],
      "metadata": {
        "id": "Qp13pnNzphqQ"
      }
    },
    {
      "cell_type": "markdown",
      "source": [
        "##### 3. Will the gained insights help creating a positive business impact? \n",
        "Are there any insights that lead to negative growth? Justify with specific reason."
      ],
      "metadata": {
        "id": "JMzcOPDDphqR"
      }
    },
    {
      "cell_type": "markdown",
      "source": [
        "Yes.It will help to gain positive business impact."
      ],
      "metadata": {
        "id": "R4Ka1PC2phqR"
      }
    },
    {
      "cell_type": "markdown",
      "source": [
        "#### Chart - 11"
      ],
      "metadata": {
        "id": "x-EpHcCOp1ci"
      }
    },
    {
      "cell_type": "markdown",
      "source": [
        "Which is the most popular release years according to average views?"
      ],
      "metadata": {
        "id": "Bb1PXmRC09lI"
      }
    },
    {
      "cell_type": "code",
      "source": [
        "pop_rel_year=df[['release_year','views']].groupby('release_year').agg({'views' : 'mean'})\n",
        "pop_rel_year=pop_rel_year.sort_values('views',ascending=False)\n",
        "pop_rel_year.reset_index(inplace=True)\n"
      ],
      "metadata": {
        "id": "bCVSsq3r0944"
      },
      "execution_count": null,
      "outputs": []
    },
    {
      "cell_type": "code",
      "source": [
        "# Chart - 11 visualization code\n",
        "plt.figure(figsize=(10,5))\n",
        "plt.title('Released years having maximum average views')\n",
        "sns.barplot(x='release_year',y='views', data=pop_rel_year, order=pop_rel_year.sort_values('views',ascending =False).release_year)"
      ],
      "metadata": {
        "id": "mAQTIvtqp1cj"
      },
      "execution_count": null,
      "outputs": []
    },
    {
      "cell_type": "markdown",
      "source": [
        "##### 1. Why did you pick the specific chart?"
      ],
      "metadata": {
        "id": "X_VqEhTip1ck"
      }
    },
    {
      "cell_type": "markdown",
      "source": [
        "To find the most popular release years according to average views."
      ],
      "metadata": {
        "id": "-vsMzt_np1ck"
      }
    },
    {
      "cell_type": "markdown",
      "source": [
        "##### 2. What is/are the insight(s) found from the chart?"
      ],
      "metadata": {
        "id": "8zGJKyg5p1ck"
      }
    },
    {
      "cell_type": "markdown",
      "source": [
        "The videos published in 2006 are most viewed followed by 2013 and 2015."
      ],
      "metadata": {
        "id": "ZYdMsrqVp1ck"
      }
    },
    {
      "cell_type": "markdown",
      "source": [
        "##### 3. Will the gained insights help creating a positive business impact? \n",
        "Are there any insights that lead to negative growth? Justify with specific reason."
      ],
      "metadata": {
        "id": "PVzmfK_Ep1ck"
      }
    },
    {
      "cell_type": "markdown",
      "source": [
        "Yes.It will help to gain positive business impact."
      ],
      "metadata": {
        "id": "druuKYZpp1ck"
      }
    },
    {
      "cell_type": "markdown",
      "source": [
        "#### Chart - 12"
      ],
      "metadata": {
        "id": "n3dbpmDWp1ck"
      }
    },
    {
      "cell_type": "code",
      "source": [
        "# Chart - 12 visualization code"
      ],
      "metadata": {
        "id": "bwevp1tKp1ck"
      },
      "execution_count": null,
      "outputs": []
    },
    {
      "cell_type": "markdown",
      "source": [
        "##### 1. Why did you pick the specific chart?"
      ],
      "metadata": {
        "id": "ylSl6qgtp1ck"
      }
    },
    {
      "cell_type": "markdown",
      "source": [
        "Answer Here."
      ],
      "metadata": {
        "id": "m2xqNkiQp1ck"
      }
    },
    {
      "cell_type": "markdown",
      "source": [
        "##### 2. What is/are the insight(s) found from the chart?"
      ],
      "metadata": {
        "id": "ZWILFDl5p1ck"
      }
    },
    {
      "cell_type": "markdown",
      "source": [
        "Answer Here"
      ],
      "metadata": {
        "id": "x-lUsV2mp1ck"
      }
    },
    {
      "cell_type": "markdown",
      "source": [
        "##### 3. Will the gained insights help creating a positive business impact? \n",
        "Are there any insights that lead to negative growth? Justify with specific reason."
      ],
      "metadata": {
        "id": "M7G43BXep1ck"
      }
    },
    {
      "cell_type": "markdown",
      "source": [
        "Answer Here"
      ],
      "metadata": {
        "id": "5wwDJXsLp1cl"
      }
    },
    {
      "cell_type": "markdown",
      "source": [
        "#### Chart - 13"
      ],
      "metadata": {
        "id": "Ag9LCva-p1cl"
      }
    },
    {
      "cell_type": "code",
      "source": [
        "# Chart - 13 visualization code"
      ],
      "metadata": {
        "id": "EUfxeq9-p1cl"
      },
      "execution_count": null,
      "outputs": []
    },
    {
      "cell_type": "markdown",
      "source": [
        "##### 1. Why did you pick the specific chart?"
      ],
      "metadata": {
        "id": "E6MkPsBcp1cl"
      }
    },
    {
      "cell_type": "markdown",
      "source": [
        "Answer Here."
      ],
      "metadata": {
        "id": "V22bRsFWp1cl"
      }
    },
    {
      "cell_type": "markdown",
      "source": [
        "##### 2. What is/are the insight(s) found from the chart?"
      ],
      "metadata": {
        "id": "2cELzS2fp1cl"
      }
    },
    {
      "cell_type": "markdown",
      "source": [
        "Answer Here"
      ],
      "metadata": {
        "id": "ozQPc2_Ip1cl"
      }
    },
    {
      "cell_type": "markdown",
      "source": [
        "##### 3. Will the gained insights help creating a positive business impact? \n",
        "Are there any insights that lead to negative growth? Justify with specific reason."
      ],
      "metadata": {
        "id": "3MPXvC8up1cl"
      }
    },
    {
      "cell_type": "markdown",
      "source": [
        "Answer Here"
      ],
      "metadata": {
        "id": "GL8l1tdLp1cl"
      }
    },
    {
      "cell_type": "markdown",
      "source": [
        "#### Chart - 14 - Correlation Heatmap"
      ],
      "metadata": {
        "id": "NC_X3p0fY2L0"
      }
    },
    {
      "cell_type": "code",
      "source": [
        "# Correlation Heatmap visualization code\n",
        "fig = plt.figure(figsize=(16,8))\n",
        "ax = fig.add_subplot(111)\n",
        "sns.heatmap(df.corr(),annot=True, cmap='Spectral_r')"
      ],
      "metadata": {
        "id": "xyC9zolEZNRQ"
      },
      "execution_count": null,
      "outputs": []
    },
    {
      "cell_type": "markdown",
      "source": [
        "##### 1. Why did you pick the specific chart?"
      ],
      "metadata": {
        "id": "UV0SzAkaZNRQ"
      }
    },
    {
      "cell_type": "markdown",
      "source": [
        "Answer Here."
      ],
      "metadata": {
        "id": "DVPuT8LYZNRQ"
      }
    },
    {
      "cell_type": "markdown",
      "source": [
        "##### 2. What is/are the insight(s) found from the chart?"
      ],
      "metadata": {
        "id": "YPEH6qLeZNRQ"
      }
    },
    {
      "cell_type": "markdown",
      "source": [
        "Answer Here"
      ],
      "metadata": {
        "id": "bfSqtnDqZNRR"
      }
    },
    {
      "cell_type": "markdown",
      "source": [
        "#### Chart - 15 - Pair Plot "
      ],
      "metadata": {
        "id": "q29F0dvdveiT"
      }
    },
    {
      "cell_type": "code",
      "source": [
        "# Pair Plot visualization code"
      ],
      "metadata": {
        "id": "o58-TEIhveiU"
      },
      "execution_count": null,
      "outputs": []
    },
    {
      "cell_type": "markdown",
      "source": [
        "##### 1. Why did you pick the specific chart?"
      ],
      "metadata": {
        "id": "EXh0U9oCveiU"
      }
    },
    {
      "cell_type": "markdown",
      "source": [
        "Answer Here."
      ],
      "metadata": {
        "id": "eMmPjTByveiU"
      }
    },
    {
      "cell_type": "markdown",
      "source": [
        "##### 2. What is/are the insight(s) found from the chart?"
      ],
      "metadata": {
        "id": "22aHeOlLveiV"
      }
    },
    {
      "cell_type": "markdown",
      "source": [
        "Answer Here"
      ],
      "metadata": {
        "id": "uPQ8RGwHveiV"
      }
    },
    {
      "cell_type": "markdown",
      "source": [
        "## ***5. Hypothesis Testing***"
      ],
      "metadata": {
        "id": "g-ATYxFrGrvw"
      }
    },
    {
      "cell_type": "markdown",
      "source": [
        "### Based on your chart experiments, define three hypothetical statements from the dataset. In the next three questions, perform hypothesis testing to obtain final conclusion about the statements through your code and statistical testing."
      ],
      "metadata": {
        "id": "Yfr_Vlr8HBkt"
      }
    },
    {
      "cell_type": "markdown",
      "source": [
        "Answer Here."
      ],
      "metadata": {
        "id": "-7MS06SUHkB-"
      }
    },
    {
      "cell_type": "markdown",
      "source": [
        "### Hypothetical Statement - 1"
      ],
      "metadata": {
        "id": "8yEUt7NnHlrM"
      }
    },
    {
      "cell_type": "markdown",
      "source": [
        "#### 1. State Your research hypothesis as a null hypothesis and alternate hypothesis."
      ],
      "metadata": {
        "id": "tEA2Xm5dHt1r"
      }
    },
    {
      "cell_type": "markdown",
      "source": [
        "Answer Here."
      ],
      "metadata": {
        "id": "HI9ZP0laH0D-"
      }
    },
    {
      "cell_type": "markdown",
      "source": [
        "#### 2. Perform an appropriate statistical test."
      ],
      "metadata": {
        "id": "I79__PHVH19G"
      }
    },
    {
      "cell_type": "code",
      "source": [
        "# Perform Statistical Test to obtain P-Value"
      ],
      "metadata": {
        "id": "oZrfquKtyian"
      },
      "execution_count": null,
      "outputs": []
    },
    {
      "cell_type": "markdown",
      "source": [
        "##### Which statistical test have you done to obtain P-Value?"
      ],
      "metadata": {
        "id": "Ou-I18pAyIpj"
      }
    },
    {
      "cell_type": "markdown",
      "source": [
        "Answer Here."
      ],
      "metadata": {
        "id": "s2U0kk00ygSB"
      }
    },
    {
      "cell_type": "markdown",
      "source": [
        "##### Why did you choose the specific statistical test?"
      ],
      "metadata": {
        "id": "fF3858GYyt-u"
      }
    },
    {
      "cell_type": "markdown",
      "source": [
        "Answer Here."
      ],
      "metadata": {
        "id": "HO4K0gP5y3B4"
      }
    },
    {
      "cell_type": "markdown",
      "source": [
        "### Hypothetical Statement - 2"
      ],
      "metadata": {
        "id": "4_0_7-oCpUZd"
      }
    },
    {
      "cell_type": "markdown",
      "source": [
        "#### 1. State Your research hypothesis as a null hypothesis and alternate hypothesis."
      ],
      "metadata": {
        "id": "hwyV_J3ipUZe"
      }
    },
    {
      "cell_type": "markdown",
      "source": [
        "Answer Here."
      ],
      "metadata": {
        "id": "FnpLGJ-4pUZe"
      }
    },
    {
      "cell_type": "markdown",
      "source": [
        "#### 2. Perform an appropriate statistical test."
      ],
      "metadata": {
        "id": "3yB-zSqbpUZe"
      }
    },
    {
      "cell_type": "code",
      "source": [
        "# Perform Statistical Test to obtain P-Value"
      ],
      "metadata": {
        "id": "sWxdNTXNpUZe"
      },
      "execution_count": null,
      "outputs": []
    },
    {
      "cell_type": "markdown",
      "source": [
        "##### Which statistical test have you done to obtain P-Value?"
      ],
      "metadata": {
        "id": "dEUvejAfpUZe"
      }
    },
    {
      "cell_type": "markdown",
      "source": [
        "Answer Here."
      ],
      "metadata": {
        "id": "oLDrPz7HpUZf"
      }
    },
    {
      "cell_type": "markdown",
      "source": [
        "##### Why did you choose the specific statistical test?"
      ],
      "metadata": {
        "id": "Fd15vwWVpUZf"
      }
    },
    {
      "cell_type": "markdown",
      "source": [
        "Answer Here."
      ],
      "metadata": {
        "id": "4xOGYyiBpUZf"
      }
    },
    {
      "cell_type": "markdown",
      "source": [
        "### Hypothetical Statement - 3"
      ],
      "metadata": {
        "id": "bn_IUdTipZyH"
      }
    },
    {
      "cell_type": "markdown",
      "source": [
        "#### 1. State Your research hypothesis as a null hypothesis and alternate hypothesis."
      ],
      "metadata": {
        "id": "49K5P_iCpZyH"
      }
    },
    {
      "cell_type": "markdown",
      "source": [
        "Answer Here."
      ],
      "metadata": {
        "id": "7gWI5rT9pZyH"
      }
    },
    {
      "cell_type": "markdown",
      "source": [
        "#### 2. Perform an appropriate statistical test."
      ],
      "metadata": {
        "id": "Nff-vKELpZyI"
      }
    },
    {
      "cell_type": "code",
      "source": [
        "# Perform Statistical Test to obtain P-Value"
      ],
      "metadata": {
        "id": "s6AnJQjtpZyI"
      },
      "execution_count": null,
      "outputs": []
    },
    {
      "cell_type": "markdown",
      "source": [
        "##### Which statistical test have you done to obtain P-Value?"
      ],
      "metadata": {
        "id": "kLW572S8pZyI"
      }
    },
    {
      "cell_type": "markdown",
      "source": [
        "Answer Here."
      ],
      "metadata": {
        "id": "ytWJ8v15pZyI"
      }
    },
    {
      "cell_type": "markdown",
      "source": [
        "##### Why did you choose the specific statistical test?"
      ],
      "metadata": {
        "id": "dWbDXHzopZyI"
      }
    },
    {
      "cell_type": "markdown",
      "source": [
        "Answer Here."
      ],
      "metadata": {
        "id": "M99G98V6pZyI"
      }
    },
    {
      "cell_type": "markdown",
      "source": [
        "## ***6. Feature Engineering & Data Pre-processing***"
      ],
      "metadata": {
        "id": "yLjJCtPM0KBk"
      }
    },
    {
      "cell_type": "markdown",
      "source": [
        "### 1. Handling Missing Values"
      ],
      "metadata": {
        "id": "xiyOF9F70UgQ"
      }
    },
    {
      "cell_type": "code",
      "source": [
        "# Handling Missing Values & Missing Value Imputation\n",
        "df.isna().sum()"
      ],
      "metadata": {
        "id": "iRsAHk1K0fpS"
      },
      "execution_count": null,
      "outputs": []
    },
    {
      "cell_type": "markdown",
      "source": [
        "#### What all missing value imputation techniques have you used and why did you use those techniques?"
      ],
      "metadata": {
        "id": "7wuGOrhz0itI"
      }
    },
    {
      "cell_type": "markdown",
      "source": [
        "I have alreday dealt with null values and replaced them with values."
      ],
      "metadata": {
        "id": "1ixusLtI0pqI"
      }
    },
    {
      "cell_type": "markdown",
      "source": [
        "### 2. Handling Outliers"
      ],
      "metadata": {
        "id": "id1riN9m0vUs"
      }
    },
    {
      "cell_type": "code",
      "source": [
        "# Handling Outliers & Outlier treatments\n",
        "# checking Outliers using boxplot\n",
        "columns = ['views', 'duration',]\n",
        "n = 1\n",
        "plt.figure(figsize=(18,12))\n",
        "\n",
        "for i in columns:\n",
        "  plt.subplot(3,3,n)\n",
        "  n=n+1\n",
        "  sns.boxplot(df[i])\n",
        "  plt.title(i)\n",
        "  plt.tight_layout()\n",
        "     "
      ],
      "metadata": {
        "id": "ASd8hUzElRoy"
      },
      "execution_count": null,
      "outputs": []
    },
    {
      "cell_type": "code",
      "source": [
        "#Treatment of outliers by mean\n",
        "for i in columns:\n",
        "  iqr =  df[i].quantile(0.75)-df[i].quantile(0.25)\n",
        "  df[i]= df[i].mask(df[i]>(df[i].quantile(0.75)+1.5*iqr), df[i].mean())\n"
      ],
      "metadata": {
        "id": "7gPMLpWBlgIw"
      },
      "execution_count": null,
      "outputs": []
    },
    {
      "cell_type": "code",
      "source": [
        "#Numerical column again after treating outliers\n",
        "n = 1\n",
        "plt.figure(figsize=(18,12))\n",
        "\n",
        "for i in columns:\n",
        "  plt.subplot(3,3,n)\n",
        "  n=n+1\n",
        "  sns.boxplot(df[i])\n",
        "  plt.title(i)\n",
        "  plt.tight_layout()"
      ],
      "metadata": {
        "id": "_47GRXZtlyME"
      },
      "execution_count": null,
      "outputs": []
    },
    {
      "cell_type": "markdown",
      "source": [
        "##### What all outlier treatment techniques have you used and why did you use those techniques?"
      ],
      "metadata": {
        "id": "578E2V7j08f6"
      }
    },
    {
      "cell_type": "markdown",
      "source": [
        "We observe that Outliers are present in views,comments and duration which needs to be treated. We are replacing the outliers with the mean values and talk_id is id of speakers so we can't have its's data as outliers."
      ],
      "metadata": {
        "id": "uGZz5OrT1HH-"
      }
    },
    {
      "cell_type": "markdown",
      "source": [
        "### 3. Categorical Encoding"
      ],
      "metadata": {
        "id": "89xtkJwZ18nB"
      }
    },
    {
      "cell_type": "code",
      "source": [
        "# Encode your categorical columns\n",
        "X=pd.get_dummies(df)"
      ],
      "metadata": {
        "id": "21JmIYMG2hEo"
      },
      "execution_count": null,
      "outputs": []
    },
    {
      "cell_type": "code",
      "source": [
        "X.shape"
      ],
      "metadata": {
        "id": "vLZ-FwjEqHwi"
      },
      "execution_count": null,
      "outputs": []
    },
    {
      "cell_type": "markdown",
      "source": [
        "#### What all categorical encoding techniques have you used & why did you use those techniques?"
      ],
      "metadata": {
        "id": "67NQN5KX2AMe"
      }
    },
    {
      "cell_type": "markdown",
      "source": [
        "Answer Here."
      ],
      "metadata": {
        "id": "UDaue5h32n_G"
      }
    },
    {
      "cell_type": "markdown",
      "source": [
        "### 4. Textual Data Preprocessing \n",
        "(It's mandatory for textual dataset i.e., NLP, Sentiment Analysis, Text Clustering etc.)"
      ],
      "metadata": {
        "id": "Iwf50b-R2tYG"
      }
    },
    {
      "cell_type": "markdown",
      "source": [
        "#### 1. Expand Contraction"
      ],
      "metadata": {
        "id": "GMQiZwjn3iu7"
      }
    },
    {
      "cell_type": "code",
      "source": [
        "# Expand Contraction"
      ],
      "metadata": {
        "id": "PTouz10C3oNN"
      },
      "execution_count": null,
      "outputs": []
    },
    {
      "cell_type": "markdown",
      "source": [
        "#### 2. Lower Casing"
      ],
      "metadata": {
        "id": "WVIkgGqN3qsr"
      }
    },
    {
      "cell_type": "code",
      "source": [
        "# Lower Casing"
      ],
      "metadata": {
        "id": "88JnJ1jN3w7j"
      },
      "execution_count": null,
      "outputs": []
    },
    {
      "cell_type": "markdown",
      "source": [
        "#### 3. Removing Punctuations"
      ],
      "metadata": {
        "id": "XkPnILGE3zoT"
      }
    },
    {
      "cell_type": "code",
      "source": [
        "# Remove Punctuations"
      ],
      "metadata": {
        "id": "vqbBqNaA33c0"
      },
      "execution_count": null,
      "outputs": []
    },
    {
      "cell_type": "markdown",
      "source": [
        "#### 4. Removing URLs & Removing words and digits contain digits."
      ],
      "metadata": {
        "id": "Hlsf0x5436Go"
      }
    },
    {
      "cell_type": "code",
      "source": [
        "# Remove URLs & Remove words and digits contain digits"
      ],
      "metadata": {
        "id": "2sxKgKxu4Ip3"
      },
      "execution_count": null,
      "outputs": []
    },
    {
      "cell_type": "markdown",
      "source": [
        "#### 5. Removing Stopwords & Removing White spaces"
      ],
      "metadata": {
        "id": "mT9DMSJo4nBL"
      }
    },
    {
      "cell_type": "code",
      "source": [
        "# Remove Stopwords"
      ],
      "metadata": {
        "id": "T2LSJh154s8W"
      },
      "execution_count": null,
      "outputs": []
    },
    {
      "cell_type": "code",
      "source": [
        "# Remove White spaces"
      ],
      "metadata": {
        "id": "EgLJGffy4vm0"
      },
      "execution_count": null,
      "outputs": []
    },
    {
      "cell_type": "markdown",
      "source": [
        "#### 6. Rephrase Text"
      ],
      "metadata": {
        "id": "c49ITxTc407N"
      }
    },
    {
      "cell_type": "code",
      "source": [
        "# Rephrase Text"
      ],
      "metadata": {
        "id": "foqY80Qu48N2"
      },
      "execution_count": null,
      "outputs": []
    },
    {
      "cell_type": "markdown",
      "source": [
        "#### 7. Tokenization"
      ],
      "metadata": {
        "id": "OeJFEK0N496M"
      }
    },
    {
      "cell_type": "code",
      "source": [
        "# Tokenization"
      ],
      "metadata": {
        "id": "ijx1rUOS5CUU"
      },
      "execution_count": null,
      "outputs": []
    },
    {
      "cell_type": "markdown",
      "source": [
        "#### 8. Text Normalization"
      ],
      "metadata": {
        "id": "9ExmJH0g5HBk"
      }
    },
    {
      "cell_type": "code",
      "source": [
        "# Normalizing Text (i.e., Stemming, Lemmatization etc.)"
      ],
      "metadata": {
        "id": "AIJ1a-Zc5PY8"
      },
      "execution_count": null,
      "outputs": []
    },
    {
      "cell_type": "markdown",
      "source": [
        "##### Which text normalization technique have you used and why?"
      ],
      "metadata": {
        "id": "cJNqERVU536h"
      }
    },
    {
      "cell_type": "markdown",
      "source": [
        "Answer Here."
      ],
      "metadata": {
        "id": "Z9jKVxE06BC1"
      }
    },
    {
      "cell_type": "markdown",
      "source": [
        "#### 9. Part of speech tagging"
      ],
      "metadata": {
        "id": "k5UmGsbsOxih"
      }
    },
    {
      "cell_type": "code",
      "source": [
        "# POS Taging"
      ],
      "metadata": {
        "id": "btT3ZJBAO6Ik"
      },
      "execution_count": null,
      "outputs": []
    },
    {
      "cell_type": "markdown",
      "source": [
        "#### 10. Text Vectorization"
      ],
      "metadata": {
        "id": "T0VqWOYE6DLQ"
      }
    },
    {
      "cell_type": "code",
      "source": [
        "# Vectorizing Text"
      ],
      "metadata": {
        "id": "yBRtdhth6JDE"
      },
      "execution_count": null,
      "outputs": []
    },
    {
      "cell_type": "markdown",
      "source": [
        "##### Which text vectorization technique have you used and why?"
      ],
      "metadata": {
        "id": "qBMux9mC6MCf"
      }
    },
    {
      "cell_type": "markdown",
      "source": [
        "Answer Here."
      ],
      "metadata": {
        "id": "su2EnbCh6UKQ"
      }
    },
    {
      "cell_type": "markdown",
      "source": [
        "### 4. Feature Manipulation & Selection"
      ],
      "metadata": {
        "id": "-oLEiFgy-5Pf"
      }
    },
    {
      "cell_type": "markdown",
      "source": [
        "#### 1. Feature Manipulation"
      ],
      "metadata": {
        "id": "C74aWNz2AliB"
      }
    },
    {
      "cell_type": "code",
      "source": [
        "# Manipulate Features to minimize feature correlation and create new features"
      ],
      "metadata": {
        "id": "h1qC4yhBApWC"
      },
      "execution_count": null,
      "outputs": []
    },
    {
      "cell_type": "markdown",
      "source": [
        "#### 2. Feature Selection"
      ],
      "metadata": {
        "id": "2DejudWSA-a0"
      }
    },
    {
      "cell_type": "code",
      "source": [
        "# Select your features wisely to avoid overfitting"
      ],
      "metadata": {
        "id": "YLhe8UmaBCEE"
      },
      "execution_count": null,
      "outputs": []
    },
    {
      "cell_type": "markdown",
      "source": [
        "##### What all feature selection methods have you used  and why?"
      ],
      "metadata": {
        "id": "pEMng2IbBLp7"
      }
    },
    {
      "cell_type": "markdown",
      "source": [
        "Answer Here."
      ],
      "metadata": {
        "id": "rb2Lh6Z8BgGs"
      }
    },
    {
      "cell_type": "markdown",
      "source": [
        "##### Which all features you found important and why?"
      ],
      "metadata": {
        "id": "rAdphbQ9Bhjc"
      }
    },
    {
      "cell_type": "markdown",
      "source": [
        "Answer Here."
      ],
      "metadata": {
        "id": "fGgaEstsBnaf"
      }
    },
    {
      "cell_type": "markdown",
      "source": [
        "### 5. Data Transformation"
      ],
      "metadata": {
        "id": "TNVZ9zx19K6k"
      }
    },
    {
      "cell_type": "markdown",
      "source": [
        "#### Do you think that your data needs to be transformed? If yes, which transformation have you used. Explain Why?"
      ],
      "metadata": {
        "id": "nqoHp30x9hH9"
      }
    },
    {
      "cell_type": "code",
      "source": [
        "# Transform Your data"
      ],
      "metadata": {
        "id": "I6quWQ1T9rtH"
      },
      "execution_count": null,
      "outputs": []
    },
    {
      "cell_type": "markdown",
      "source": [
        "### 6. Data Scaling"
      ],
      "metadata": {
        "id": "rMDnDkt2B6du"
      }
    },
    {
      "cell_type": "code",
      "source": [
        "# Scaling your data"
      ],
      "metadata": {
        "id": "dL9LWpySC6x_"
      },
      "execution_count": null,
      "outputs": []
    },
    {
      "cell_type": "markdown",
      "source": [
        "##### Which method have you used to scale you data and why?"
      ],
      "metadata": {
        "id": "yiiVWRdJDDil"
      }
    },
    {
      "cell_type": "markdown",
      "source": [
        "### 7. Dimesionality Reduction"
      ],
      "metadata": {
        "id": "1UUpS68QDMuG"
      }
    },
    {
      "cell_type": "markdown",
      "source": [
        "##### Do you think that dimensionality reduction is needed? Explain Why?"
      ],
      "metadata": {
        "id": "kexQrXU-DjzY"
      }
    },
    {
      "cell_type": "markdown",
      "source": [
        "Answer Here."
      ],
      "metadata": {
        "id": "GGRlBsSGDtTQ"
      }
    },
    {
      "cell_type": "code",
      "source": [
        "# DImensionality Reduction (If needed)"
      ],
      "metadata": {
        "id": "kQfvxBBHDvCa"
      },
      "execution_count": null,
      "outputs": []
    },
    {
      "cell_type": "markdown",
      "source": [
        "##### Which dimensionality reduction technique have you used and why? (If dimensionality reduction done on dataset.)"
      ],
      "metadata": {
        "id": "T5CmagL3EC8N"
      }
    },
    {
      "cell_type": "markdown",
      "source": [
        "Answer Here."
      ],
      "metadata": {
        "id": "ZKr75IDuEM7t"
      }
    },
    {
      "cell_type": "markdown",
      "source": [
        "### 8. Data Splitting"
      ],
      "metadata": {
        "id": "BhH2vgX9EjGr"
      }
    },
    {
      "cell_type": "code",
      "source": [
        "# Split your data to train and test. Choose Splitting ratio wisely."
      ],
      "metadata": {
        "id": "Z6dW0K6zpnGB"
      },
      "execution_count": null,
      "outputs": []
    },
    {
      "cell_type": "markdown",
      "source": [
        "##### What data splitting ratio have you used and why? "
      ],
      "metadata": {
        "id": "qjKvONjwE8ra"
      }
    },
    {
      "cell_type": "markdown",
      "source": [
        "Answer Here."
      ],
      "metadata": {
        "id": "Y2lJ8cobFDb_"
      }
    },
    {
      "cell_type": "markdown",
      "source": [
        "### 9. Handling Imbalanced Dataset"
      ],
      "metadata": {
        "id": "P1XJ9OREExlT"
      }
    },
    {
      "cell_type": "markdown",
      "source": [
        "##### Do you think the dataset is imbalanced? Explain Why."
      ],
      "metadata": {
        "id": "VFOzZv6IFROw"
      }
    },
    {
      "cell_type": "markdown",
      "source": [
        "Answer Here."
      ],
      "metadata": {
        "id": "GeKDIv7pFgcC"
      }
    },
    {
      "cell_type": "code",
      "source": [
        "# Handling Imbalanced Dataset (If needed)"
      ],
      "metadata": {
        "id": "nQsRhhZLFiDs"
      },
      "execution_count": null,
      "outputs": []
    },
    {
      "cell_type": "markdown",
      "source": [
        "##### What technique did you use to handle the imbalance dataset and why? (If needed to be balanced)"
      ],
      "metadata": {
        "id": "TIqpNgepFxVj"
      }
    },
    {
      "cell_type": "markdown",
      "source": [
        "Answer Here."
      ],
      "metadata": {
        "id": "qbet1HwdGDTz"
      }
    },
    {
      "cell_type": "markdown",
      "source": [
        "## ***7. ML Model Implementation***"
      ],
      "metadata": {
        "id": "VfCC591jGiD4"
      }
    },
    {
      "cell_type": "markdown",
      "source": [
        "### ML Model - 1"
      ],
      "metadata": {
        "id": "OB4l2ZhMeS1U"
      }
    },
    {
      "cell_type": "code",
      "source": [
        "# ML Model - 1 Implementation\n",
        "\n",
        "# Fit the Algorithm\n",
        "\n",
        "# Predict on the model"
      ],
      "metadata": {
        "id": "7ebyywQieS1U"
      },
      "execution_count": null,
      "outputs": []
    },
    {
      "cell_type": "markdown",
      "source": [
        "#### 1. Explain the ML Model used and it's performance using Evaluation metric Score Chart."
      ],
      "metadata": {
        "id": "ArJBuiUVfxKd"
      }
    },
    {
      "cell_type": "code",
      "source": [
        "# Visualizing evaluation Metric Score chart"
      ],
      "metadata": {
        "id": "rqD5ZohzfxKe"
      },
      "execution_count": null,
      "outputs": []
    },
    {
      "cell_type": "markdown",
      "source": [
        "#### 2. Cross- Validation & Hyperparameter Tuning"
      ],
      "metadata": {
        "id": "4qY1EAkEfxKe"
      }
    },
    {
      "cell_type": "code",
      "source": [
        "# ML Model - 1 Implementation with hyperparameter optimization techniques (i.e., GridSearch CV, RandomSearch CV, Bayesian Optimization etc.)\n",
        "\n",
        "# Fit the Algorithm\n",
        "\n",
        "# Predict on the model"
      ],
      "metadata": {
        "id": "Dy61ujd6fxKe"
      },
      "execution_count": null,
      "outputs": []
    },
    {
      "cell_type": "markdown",
      "source": [
        "##### Which hyperparameter optimization technique have you used and why?"
      ],
      "metadata": {
        "id": "PiV4Ypx8fxKe"
      }
    },
    {
      "cell_type": "markdown",
      "source": [
        "Answer Here."
      ],
      "metadata": {
        "id": "negyGRa7fxKf"
      }
    },
    {
      "cell_type": "markdown",
      "source": [
        "##### Have you seen any improvement? Note down the improvement with updates Evaluation metric Score Chart."
      ],
      "metadata": {
        "id": "TfvqoZmBfxKf"
      }
    },
    {
      "cell_type": "markdown",
      "source": [
        "Answer Here."
      ],
      "metadata": {
        "id": "OaLui8CcfxKf"
      }
    },
    {
      "cell_type": "markdown",
      "source": [
        "### ML Model - 2"
      ],
      "metadata": {
        "id": "dJ2tPlVmpsJ0"
      }
    },
    {
      "cell_type": "markdown",
      "source": [
        "#### 1. Explain the ML Model used and it's performance using Evaluation metric Score Chart."
      ],
      "metadata": {
        "id": "JWYfwnehpsJ1"
      }
    },
    {
      "cell_type": "code",
      "source": [
        "# Visualizing evaluation Metric Score chart"
      ],
      "metadata": {
        "id": "yEl-hgQWpsJ1"
      },
      "execution_count": null,
      "outputs": []
    },
    {
      "cell_type": "markdown",
      "source": [
        "#### 2. Cross- Validation & Hyperparameter Tuning"
      ],
      "metadata": {
        "id": "-jK_YjpMpsJ2"
      }
    },
    {
      "cell_type": "code",
      "source": [
        "# ML Model - 1 Implementation with hyperparameter optimization techniques (i.e., GridSearch CV, RandomSearch CV, Bayesian Optimization etc.)\n",
        "\n",
        "# Fit the Algorithm\n",
        "\n",
        "# Predict on the model"
      ],
      "metadata": {
        "id": "Dn0EOfS6psJ2"
      },
      "execution_count": null,
      "outputs": []
    },
    {
      "cell_type": "markdown",
      "source": [
        "##### Which hyperparameter optimization technique have you used and why?"
      ],
      "metadata": {
        "id": "HAih1iBOpsJ2"
      }
    },
    {
      "cell_type": "markdown",
      "source": [
        "Answer Here."
      ],
      "metadata": {
        "id": "9kBgjYcdpsJ2"
      }
    },
    {
      "cell_type": "markdown",
      "source": [
        "##### Have you seen any improvement? Note down the improvement with updates Evaluation metric Score Chart."
      ],
      "metadata": {
        "id": "zVGeBEFhpsJ2"
      }
    },
    {
      "cell_type": "markdown",
      "source": [
        "Answer Here."
      ],
      "metadata": {
        "id": "74yRdG6UpsJ3"
      }
    },
    {
      "cell_type": "markdown",
      "source": [
        "#### 3. Explain each evaluation metric's indication towards business and the business impact pf the ML model used."
      ],
      "metadata": {
        "id": "bmKjuQ-FpsJ3"
      }
    },
    {
      "cell_type": "markdown",
      "source": [
        "Answer Here."
      ],
      "metadata": {
        "id": "BDKtOrBQpsJ3"
      }
    },
    {
      "cell_type": "markdown",
      "source": [
        "### ML Model - 3"
      ],
      "metadata": {
        "id": "Fze-IPXLpx6K"
      }
    },
    {
      "cell_type": "code",
      "source": [
        "# ML Model - 3 Implementation\n",
        "\n",
        "# Fit the Algorithm\n",
        "\n",
        "# Predict on the model"
      ],
      "metadata": {
        "id": "FFrSXAtrpx6M"
      },
      "execution_count": null,
      "outputs": []
    },
    {
      "cell_type": "markdown",
      "source": [
        "#### 1. Explain the ML Model used and it's performance using Evaluation metric Score Chart."
      ],
      "metadata": {
        "id": "7AN1z2sKpx6M"
      }
    },
    {
      "cell_type": "code",
      "source": [
        "# Visualizing evaluation Metric Score chart"
      ],
      "metadata": {
        "id": "xIY4lxxGpx6M"
      },
      "execution_count": null,
      "outputs": []
    },
    {
      "cell_type": "markdown",
      "source": [
        "#### 2. Cross- Validation & Hyperparameter Tuning"
      ],
      "metadata": {
        "id": "9PIHJqyupx6M"
      }
    },
    {
      "cell_type": "code",
      "source": [
        "# ML Model - 3 Implementation with hyperparameter optimization techniques (i.e., GridSearch CV, RandomSearch CV, Bayesian Optimization etc.)\n",
        "\n",
        "# Fit the Algorithm\n",
        "\n",
        "# Predict on the model"
      ],
      "metadata": {
        "id": "eSVXuaSKpx6M"
      },
      "execution_count": null,
      "outputs": []
    },
    {
      "cell_type": "markdown",
      "source": [
        "##### Which hyperparameter optimization technique have you used and why?"
      ],
      "metadata": {
        "id": "_-qAgymDpx6N"
      }
    },
    {
      "cell_type": "markdown",
      "source": [
        "Answer Here."
      ],
      "metadata": {
        "id": "lQMffxkwpx6N"
      }
    },
    {
      "cell_type": "markdown",
      "source": [
        "##### Have you seen any improvement? Note down the improvement with updates Evaluation metric Score Chart."
      ],
      "metadata": {
        "id": "Z-hykwinpx6N"
      }
    },
    {
      "cell_type": "markdown",
      "source": [
        "Answer Here."
      ],
      "metadata": {
        "id": "MzVzZC6opx6N"
      }
    },
    {
      "cell_type": "markdown",
      "source": [
        "### 1. Which Evaluation metrics did you consider for a positive business impact and why?"
      ],
      "metadata": {
        "id": "h_CCil-SKHpo"
      }
    },
    {
      "cell_type": "markdown",
      "source": [
        "Answer Here."
      ],
      "metadata": {
        "id": "jHVz9hHDKFms"
      }
    },
    {
      "cell_type": "markdown",
      "source": [
        "### 2. Which ML model did you choose from the above created models as your final prediction model and why?"
      ],
      "metadata": {
        "id": "cBFFvTBNJzUa"
      }
    },
    {
      "cell_type": "markdown",
      "source": [
        "Answer Here."
      ],
      "metadata": {
        "id": "6ksF5Q1LKTVm"
      }
    },
    {
      "cell_type": "markdown",
      "source": [
        "### 3. Explain the model which you have used and the feature importance using any model explainability tool?"
      ],
      "metadata": {
        "id": "HvGl1hHyA_VK"
      }
    },
    {
      "cell_type": "markdown",
      "source": [
        "Answer Here."
      ],
      "metadata": {
        "id": "YnvVTiIxBL-C"
      }
    },
    {
      "cell_type": "markdown",
      "source": [
        "## ***8.*** ***Future Work (Optional)***"
      ],
      "metadata": {
        "id": "EyNgTHvd2WFk"
      }
    },
    {
      "cell_type": "markdown",
      "source": [
        "### 1. Save the best performing ml model in a pickle file or joblib file format for deployment process.\n"
      ],
      "metadata": {
        "id": "KH5McJBi2d8v"
      }
    },
    {
      "cell_type": "code",
      "source": [
        "# Save the File"
      ],
      "metadata": {
        "id": "bQIANRl32f4J"
      },
      "execution_count": null,
      "outputs": []
    },
    {
      "cell_type": "markdown",
      "source": [
        "### 2. Again Load the saved model file and try to predict unseen data for a sanity check.\n"
      ],
      "metadata": {
        "id": "iW_Lq9qf2h6X"
      }
    },
    {
      "cell_type": "code",
      "source": [
        "# Load the File and predict unseen data."
      ],
      "metadata": {
        "id": "oEXk9ydD2nVC"
      },
      "execution_count": null,
      "outputs": []
    },
    {
      "cell_type": "markdown",
      "source": [
        "### ***Congrats! Your model is successfully created and ready for deployment on a live server for a real user interaction !!!***"
      ],
      "metadata": {
        "id": "-Kee-DAl2viO"
      }
    },
    {
      "cell_type": "markdown",
      "source": [
        "# **Conclusion**"
      ],
      "metadata": {
        "id": "gCX9965dhzqZ"
      }
    },
    {
      "cell_type": "markdown",
      "source": [
        "Write the conclusion here."
      ],
      "metadata": {
        "id": "Fjb1IsQkh3yE"
      }
    },
    {
      "cell_type": "markdown",
      "source": [
        "### ***Hurrah! You have successfully completed your Machine Learning Capstone Project !!!***"
      ],
      "metadata": {
        "id": "gIfDvo9L0UH2"
      }
    }
  ]
}